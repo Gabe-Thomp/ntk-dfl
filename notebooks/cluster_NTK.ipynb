{
 "cells": [
  {
   "cell_type": "code",
   "execution_count": 1,
   "metadata": {},
   "outputs": [],
   "source": [
    "import copy\n",
    "import time\n",
    "import time\n",
    "import numpy as np\n",
    "import argparse\n",
    "\n",
    "from torch.utils import data\n",
    "\n",
    "from utils.utils import *\n",
    "from utils import load_config\n",
    "from utils.validate import *\n",
    "from fedlearning.model import *\n",
    "from fedlearning.dataset import *\n",
    "from fedlearning.evolve import *\n",
    "from fedlearning.optimizer import GlobalUpdater, LocalUpdater, get_omegas"
   ]
  },
  {
   "cell_type": "code",
   "execution_count": 2,
   "metadata": {},
   "outputs": [
    {
     "name": "stderr",
     "output_type": "stream",
     "text": [
      "--------------------------------------------------------------------------------\n"
     ]
    }
   ],
   "source": [
    "config_file = \"config_cluster.yaml\"\n",
    "config = load_config(config_file)\n",
    "\n",
    "logger = init_logger(config)\n",
    "\n",
    "model = init_model(config, logger)\n",
    "\n",
    "record = init_record(config, model)\n",
    "\n",
    "if config.device == \"cuda\":\n",
    "    torch.backends.cudnn.benchmark = True\n",
    "    # torch.backends.cudnn.deterministic = True"
   ]
  },
  {
   "cell_type": "code",
   "execution_count": 3,
   "metadata": {},
   "outputs": [],
   "source": [
    "# Create user_ids\n",
    "user_ids = np.arange(0, config.users)\n",
    "\n",
    "# load the dataset\n",
    "# dataset object is a dictionary with keys: train_data, test_data, user_with_data\n",
    "# user_with_data is a dictionary with keys: userID:sampleID\n",
    "# For example, in the IID setting ID's are just assigned like 0, 1, 2, 3, ...\n",
    "dataset = assign_user_data(config, logger)\n",
    "test_images = torch.from_numpy(dataset[\"test_data\"][\"images\"]).to(config.device)\n",
    "test_labels = torch.from_numpy(dataset[\"test_data\"][\"labels\"]).to(config.device)\n",
    "\n",
    "# tau candidates \n",
    "taus = np.array(config.taus)\n",
    "\n",
    "# Create a dictionary of models for each user\n",
    "# Same initialization for all users\n",
    "same_init = False\n",
    "if same_init:\n",
    "    model_dict = {model_id: copy.deepcopy(model) for model_id in user_ids}\n",
    "else:\n",
    "    model_dict = {model_id: init_model(config, logger) for model_id in user_ids}\n",
    "# create list to store the training rounds for each user    \n",
    "model_training_rounds = [0]*config.users\n"
   ]
  },
  {
   "cell_type": "code",
   "execution_count": 4,
   "metadata": {},
   "outputs": [],
   "source": [
    "num_participators = int(config.part_rate*config.users) \n",
    "participating_users = np.random.choice(user_ids, num_participators-1, replace=False)\n",
    "\n",
    "# Define function to cluster participants in a given communication round into group\n",
    "def cluster_participants(cluster_size, participating_users):\n",
    "        np.random.shuffle(participating_users)\n",
    "        num_participators = len(participating_users)\n",
    "        num_clusters = num_participators // cluster_size\n",
    "        clusters = np.array_split(participating_users, num_clusters)\n",
    "        return clusters\n"
   ]
  },
  {
   "cell_type": "code",
   "execution_count": 7,
   "metadata": {},
   "outputs": [
    {
     "data": {
      "text/plain": [
       "array([242,  18, 217, 282, 254, 252, 166, 289, 127, 135, 218, 134,  38,\n",
       "        25, 228,  98, 175, 256, 279, 221])"
      ]
     },
     "execution_count": 7,
     "metadata": {},
     "output_type": "execute_result"
    }
   ],
   "source": [
    "participating_users"
   ]
  },
  {
   "cell_type": "code",
   "execution_count": 8,
   "metadata": {},
   "outputs": [
    {
     "data": {
      "text/plain": [
       "[array([256,  18, 217, 289, 221]),\n",
       " array([228, 252, 242, 279, 134]),\n",
       " array([ 38, 218, 166, 254, 135]),\n",
       " array([175, 282,  98,  25, 127])]"
      ]
     },
     "execution_count": 8,
     "metadata": {},
     "output_type": "execute_result"
    }
   ],
   "source": [
    "cluster_size = 5\n",
    "cluster_participants(cluster_size, participating_users)"
   ]
  },
  {
   "cell_type": "markdown",
   "metadata": {},
   "source": [
    "To do for one comm round, given a cluster, train their models"
   ]
  },
  {
   "cell_type": "markdown",
   "metadata": {},
   "source": [
    "How it works:\n",
    "- Weights are aggregated from each cluster to create a shared cluster weight, which is then shared with each model\n",
    "- Each client creates their jacobian matrix with respect to the shared cluster weight and their local data \n",
    "- One client is designated as the \"server\"\n",
    "- All clients send their jacobian matrices to the server client\n",
    "- The server clients creates the NTK matrix by taking pairwise inner products of jacobian matrices. They then perform weight evolution on the shared cluster weight. The best weights are then sent back to the clients"
   ]
  },
  {
   "cell_type": "code",
   "execution_count": 9,
   "metadata": {},
   "outputs": [],
   "source": [
    "def average_cluster_weights(cluster_ids, model_dict):\n",
    "    # Average the weights of the models in the cluster\n",
    "    weight_dict = copy.deepcopy(model_dict[cluster_ids[0]].state_dict())\n",
    "    weight_aggregator = WeightMod(weight_dict)\n",
    "    for user_id in cluster_ids[1:]:\n",
    "        weight_aggregator.add(copy.deepcopy(model_dict[user_id].state_dict()))\n",
    "    weight_aggregator.mul(1.0/len(cluster_ids))\n",
    "    return weight_aggregator.state_dict()"
   ]
  },
  {
   "cell_type": "code",
   "execution_count": 10,
   "metadata": {},
   "outputs": [],
   "source": [
    "def load_cluster_weights(cluster_ids, model_dict, weight_dict):\n",
    "    # Load the averaged weights to the models in the cluster\n",
    "    for user_id in cluster_ids:\n",
    "        model_dict[user_id].load_state_dict(weight_dict)\n",
    "    return None"
   ]
  },
  {
   "cell_type": "code",
   "execution_count": 11,
   "metadata": {},
   "outputs": [],
   "source": [
    "def train_cluster(cluster_ids, model_dict, model_training_rounds, verbose=False):\n",
    "    acc = []\n",
    "    losses = []\n",
    "    params_list = []\n",
    "\n",
    "    global_kernel = None\n",
    "    global_xs = None\n",
    "    global_ys = None\n",
    "    local_packages = []\n",
    "    local_kernels = []\n",
    "\n",
    "    global_jac = None\n",
    "\n",
    "    averaged_weight = average_cluster_weights(cluster_ids, model_dict)\n",
    "    # Load averaged weight into clusters\n",
    "    load_cluster_weights(cluster_ids, model_dict, averaged_weight)\n",
    "    for user_id in cluster_ids:\n",
    "        # Select the model with which to take jacobian\n",
    "        model = model_dict[user_id]\n",
    "        \n",
    "        if verbose: print(\"user {:d} updating\".format(user_id))\n",
    "        # assign_user_resource specifies some parameters for the user given their user_id\n",
    "        # user_resource is a dictionary with keys: lr, device, batch_size, images, labels\n",
    "        user_resource = assign_user_resource(config, user_id, \n",
    "                            dataset[\"train_data\"], dataset[\"user_with_data\"])\n",
    "        local_updater = LocalUpdater(config, user_resource)\n",
    "        # Gets the local jacobians for a given client specified in local_updater\n",
    "        local_updater.local_step(model)\n",
    "        # Simulate uplink transmission\n",
    "        local_package = local_updater.uplink_transmit()\n",
    "        # Append this clients jacobians to the list\n",
    "        local_packages.append(local_package)\n",
    "\n",
    "        # Send local x and y\n",
    "        if global_xs is None:\n",
    "            global_xs = local_updater.xs\n",
    "            global_ys = local_updater.ys\n",
    "        else:\n",
    "            global_xs = torch.vstack((global_xs, local_updater.xs))\n",
    "            global_ys = torch.vstack((global_ys, local_updater.ys))            \n",
    "\n",
    "         # del local_updater\n",
    "        torch.cuda.empty_cache()\n",
    "\n",
    "    start_time = time.time()\n",
    "    global_jac = combine_local_jacobians(local_packages)\n",
    "\n",
    "    del local_packages\n",
    "    # Added these two lines to free up memory\n",
    "    del local_package\n",
    "    del local_updater\n",
    "\n",
    "    if verbose: print(\"compute kernel matrix\")\n",
    "    global_kernel = empirical_kernel(global_jac)\n",
    "\n",
    "    if verbose: print(\"kernel computation time {:3f}\".format(time.time() - start_time))\n",
    "\n",
    "    # Returns a function that, given t and f_0, solves for f_t\n",
    "    predictor = gradient_descent_ce(global_kernel.cpu(), global_ys.cpu(), config.lr)\n",
    "    \n",
    "    # This is f^(0) (X)\n",
    "    # Note: All models in the cluster have the same initial (aggregated) weights, \n",
    "    # so they also have the same weight evolution under the NTK\n",
    "    with torch.no_grad():\n",
    "        fx_0 = model(global_xs)\n",
    "\n",
    "    # Configure maximum t as one more than the largest tau value\n",
    "    t = torch.arange(config.taus[-1]+1)\n",
    "    \n",
    "    # Create f_x using the time values and the initial f_x\n",
    "    fx_train = predictor(t, fx_0.cpu())\n",
    "    # fx_train = fx_train.to(fx_0)\n",
    "    \n",
    "    # Use current weights to pass to the optimizer\n",
    "    init_state_dict = copy.deepcopy(model.state_dict())\n",
    "\n",
    "    losses = np.zeros_like(taus, dtype=float)\n",
    "    acc = np.zeros_like(taus, dtype=float)\n",
    "\n",
    "    if verbose: print(\"loss \\tacc\")\n",
    "    for i, tau in enumerate(config.taus):\n",
    "        # initialize the weight aggregator with current weights\n",
    "        weight_aggregator = WeightMod(init_state_dict)\n",
    "        global_omegas = get_omegas(t[:tau+1], config.lr, global_jac, \n",
    "                global_ys.cpu(), fx_train[:tau+1], config.loss, \n",
    "                model.state_dict())\n",
    "        # global_omegas = get_omegas(t[:tau+1], config.lr, global_jac, \n",
    "        #         global_ys, fx_train[:tau+1], config.loss, \n",
    "        #         model.state_dict())        \n",
    "        \n",
    "        # Complete the sum in 9b\n",
    "        weight_aggregator.add(global_omegas)\n",
    "        aggregated_weight = weight_aggregator.state_dict()\n",
    "        model.load_state_dict(aggregated_weight)\n",
    "\n",
    "        output = model(global_xs)\n",
    "\n",
    "        loss = loss_with_output(output, global_ys, config.loss)\n",
    "        # loss_fx = loss_with_output(fx_train[tau].to(global_ys), global_ys, config.loss)\n",
    "        losses[i] = loss\n",
    "\n",
    "        output = model(test_images)\n",
    "\n",
    "        test_acc = accuracy_with_output(output, test_labels)\n",
    "        acc[i] = test_acc\n",
    "\n",
    "        if verbose: print(\"{:.3f}\\t{:.3f}\".format(loss, test_acc))\n",
    "\n",
    "        params_list.append(copy.deepcopy(aggregated_weight))\n",
    "        \n",
    "    # Get index of tau with lowest loss\n",
    "    idx = np.argmin(losses)\n",
    "    # Select weight parameters with lowest loss\n",
    "    params = params_list[idx]\n",
    "\n",
    "    # Select tau with lowest loss\n",
    "    current_tau = taus[idx]\n",
    "    current_acc = acc[idx]\n",
    "    current_loss = losses[idx]\n",
    "\n",
    "    if verbose: logger.info(\"current tau {:d}\".format(current_tau))\n",
    "    logger.info(\"acc {:4f}\".format(current_acc))\n",
    "    if verbose: logger.info(\"loss {:.4f}\".format(current_loss))\n",
    "    \n",
    "    # Load weights into models in cluster\n",
    "    load_cluster_weights(cluster_ids, model_dict, params)\n",
    "    \n",
    "    # Increment training round for each model in cluster\n",
    "    for user_id in cluster_ids:\n",
    "        model_training_rounds[user_id] += 1\n",
    "    \n",
    "    # Return the current loss, accuracy, and tau\n",
    "    record[\"loss\"].append(current_loss)\n",
    "    record[\"testing_accuracy\"].append(current_acc)\n",
    "    record[\"taus\"].append(current_tau)\n",
    "\n",
    "    torch.cuda.empty_cache()\n",
    "\n"
   ]
  },
  {
   "cell_type": "code",
   "execution_count": 12,
   "metadata": {},
   "outputs": [],
   "source": [
    "def get_accuracies(model_ids, model_dict, test_images, test_labels):\n",
    "    '''\n",
    "    Get the accuracies of the models in the model_dict specified by the model_ids\n",
    "    returns a list of accuracies\n",
    "    '''\n",
    "    acc = []\n",
    "    for user_id in model_ids:\n",
    "        model = model_dict[user_id]\n",
    "        output = model(test_images)\n",
    "        test_acc = accuracy_with_output(output, test_labels)\n",
    "        acc.append(test_acc)\n",
    "    return acc"
   ]
  },
  {
   "cell_type": "code",
   "execution_count": 13,
   "metadata": {},
   "outputs": [
    {
     "name": "stderr",
     "output_type": "stream",
     "text": [
      "Comm Round 0\n",
      "acc 0.619900\n",
      "acc 0.487500\n",
      "acc 0.571000\n",
      "acc 0.557900\n",
      "Participating Accs: 0.5590749904513359\n",
      "--------------------------------------------------------------------------------\n",
      "Comm Round 1\n",
      "acc 0.657400\n",
      "acc 0.613400\n",
      "acc 0.639300\n",
      "acc 0.562100\n",
      "Participating Accs: 0.6180499941110611\n",
      "--------------------------------------------------------------------------------\n",
      "Comm Round 2\n",
      "acc 0.582800\n",
      "acc 0.522600\n",
      "acc 0.565500\n",
      "acc 0.538700\n",
      "Participating Accs: 0.5523999780416489\n",
      "--------------------------------------------------------------------------------\n",
      "Comm Round 3\n",
      "acc 0.652900\n",
      "acc 0.594900\n",
      "acc 0.591600\n",
      "acc 0.557300\n",
      "Participating Accs: 0.5991749912500381\n",
      "--------------------------------------------------------------------------------\n",
      "Comm Round 4\n",
      "acc 0.641300\n",
      "acc 0.631600\n",
      "acc 0.578400\n",
      "acc 0.633100\n",
      "Participating Accs: 0.6210999637842178\n",
      "--------------------------------------------------------------------------------\n",
      "Comm Round 5\n",
      "acc 0.708000\n",
      "acc 0.529800\n",
      "acc 0.610900\n",
      "acc 0.602500\n",
      "Participating Accs: 0.6127999871969223\n",
      "--------------------------------------------------------------------------------\n",
      "Comm Round 6\n",
      "acc 0.626800\n",
      "acc 0.625400\n",
      "acc 0.653200\n",
      "acc 0.586600\n",
      "Participating Accs: 0.6229999959468842\n",
      "--------------------------------------------------------------------------------\n",
      "Comm Round 7\n",
      "acc 0.538800\n",
      "acc 0.534800\n",
      "acc 0.631000\n",
      "acc 0.683000\n",
      "Participating Accs: 0.5968999862670898\n",
      "--------------------------------------------------------------------------------\n",
      "Comm Round 8\n",
      "acc 0.538300\n",
      "acc 0.555000\n",
      "acc 0.640000\n",
      "acc 0.590300\n",
      "Participating Accs: 0.5808999836444855\n",
      "--------------------------------------------------------------------------------\n",
      "Comm Round 9\n",
      "acc 0.635700\n",
      "acc 0.619300\n",
      "acc 0.678100\n",
      "acc 0.701800\n",
      "Participating Accs: 0.6587249934673309\n",
      "--------------------------------------------------------------------------------\n",
      "Comm Round 10\n",
      "acc 0.627300\n",
      "acc 0.511300\n",
      "acc 0.637100\n",
      "acc 0.618700\n",
      "Participating Accs: 0.5985999703407288\n",
      "--------------------------------------------------------------------------------\n",
      "Comm Round 11\n",
      "acc 0.556800\n",
      "acc 0.560200\n",
      "acc 0.547700\n",
      "acc 0.512900\n",
      "Participating Accs: 0.5443999916315079\n",
      "--------------------------------------------------------------------------------\n",
      "Comm Round 12\n",
      "acc 0.603100\n",
      "acc 0.632900\n",
      "acc 0.637300\n",
      "acc 0.572500\n",
      "Participating Accs: 0.6114499866962433\n",
      "--------------------------------------------------------------------------------\n",
      "Comm Round 13\n",
      "acc 0.682500\n",
      "acc 0.647000\n",
      "acc 0.676200\n",
      "acc 0.655500\n",
      "Participating Accs: 0.6652999818325043\n",
      "--------------------------------------------------------------------------------\n",
      "Comm Round 14\n",
      "acc 0.659000\n",
      "acc 0.626800\n",
      "acc 0.665800\n",
      "acc 0.724300\n",
      "Participating Accs: 0.668974980711937\n",
      "--------------------------------------------------------------------------------\n",
      "Comm Round 15\n",
      "acc 0.597100\n",
      "acc 0.643300\n",
      "acc 0.684100\n",
      "acc 0.585300\n",
      "Participating Accs: 0.6274499744176865\n",
      "--------------------------------------------------------------------------------\n",
      "Comm Round 16\n",
      "acc 0.643500\n",
      "acc 0.692900\n",
      "acc 0.679300\n",
      "acc 0.683500\n",
      "Participating Accs: 0.6747999936342239\n",
      "--------------------------------------------------------------------------------\n",
      "Comm Round 17\n",
      "acc 0.617500\n",
      "acc 0.623000\n",
      "acc 0.668700\n",
      "acc 0.750100\n",
      "Participating Accs: 0.664824977517128\n",
      "--------------------------------------------------------------------------------\n",
      "Comm Round 18\n",
      "acc 0.714700\n",
      "acc 0.639000\n",
      "acc 0.634700\n",
      "acc 0.674300\n",
      "Participating Accs: 0.6656749844551086\n",
      "--------------------------------------------------------------------------------\n",
      "Comm Round 19\n",
      "acc 0.645800\n",
      "acc 0.591600\n",
      "acc 0.690900\n",
      "acc 0.692800\n",
      "Participating Accs: 0.6552749872207642\n",
      "--------------------------------------------------------------------------------\n",
      "Comm Round 20\n",
      "acc 0.719100\n",
      "acc 0.694800\n",
      "acc 0.718700\n",
      "acc 0.662500\n",
      "Participating Accs: 0.698774978518486\n",
      "--------------------------------------------------------------------------------\n",
      "Comm Round 21\n",
      "acc 0.700600\n",
      "acc 0.702300\n",
      "acc 0.595800\n",
      "acc 0.700600\n",
      "Participating Accs: 0.6748249679803848\n",
      "--------------------------------------------------------------------------------\n",
      "Comm Round 22\n",
      "acc 0.687400\n",
      "acc 0.681100\n",
      "acc 0.749800\n",
      "acc 0.714800\n",
      "Participating Accs: 0.7082749903202057\n",
      "--------------------------------------------------------------------------------\n",
      "Comm Round 23\n",
      "acc 0.706100\n",
      "acc 0.685100\n",
      "acc 0.701500\n",
      "acc 0.703300\n",
      "Participating Accs: 0.6989999860525131\n",
      "--------------------------------------------------------------------------------\n",
      "Comm Round 24\n",
      "acc 0.753600\n",
      "acc 0.734500\n",
      "acc 0.695900\n",
      "acc 0.755800\n",
      "Participating Accs: 0.734949991106987\n",
      "--------------------------------------------------------------------------------\n",
      "Comm Round 25\n",
      "acc 0.757600\n",
      "acc 0.770800\n",
      "acc 0.715800\n",
      "acc 0.671900\n",
      "Participating Accs: 0.7290249913930893\n",
      "--------------------------------------------------------------------------------\n",
      "Comm Round 26\n",
      "acc 0.671100\n",
      "acc 0.707000\n",
      "acc 0.751300\n",
      "acc 0.762300\n",
      "Participating Accs: 0.7229249626398087\n",
      "--------------------------------------------------------------------------------\n",
      "Comm Round 27\n",
      "acc 0.749900\n",
      "acc 0.755600\n",
      "acc 0.735500\n",
      "acc 0.696400\n",
      "Participating Accs: 0.7343499809503555\n",
      "--------------------------------------------------------------------------------\n",
      "Comm Round 28\n",
      "acc 0.662800\n",
      "acc 0.773600\n",
      "acc 0.767300\n",
      "acc 0.755700\n",
      "Participating Accs: 0.7398499846458435\n",
      "--------------------------------------------------------------------------------\n",
      "Comm Round 29\n",
      "acc 0.773100\n",
      "acc 0.748800\n",
      "acc 0.714400\n",
      "acc 0.732700\n",
      "Participating Accs: 0.7422499805688858\n",
      "--------------------------------------------------------------------------------\n"
     ]
    }
   ],
   "source": [
    "comm_rounds = config.rounds\n",
    "for round in range(comm_rounds):\n",
    "    logger.info(\"Comm Round {:d}\".format(round))\n",
    "    # Select participating users\n",
    "    participating_users = np.random.choice(user_ids, num_participators-1, replace=False)\n",
    "    # Cluster participating users\n",
    "    clusters = cluster_participants(cluster_size, participating_users)\n",
    "    for cluster in clusters:\n",
    "        train_cluster(cluster, model_dict, model_training_rounds)\n",
    "    participating_accs = get_accuracies(participating_users, model_dict, test_images, test_labels)\n",
    "    record[\"model_accs_per_round\"].append(get_accuracies(user_ids, model_dict, test_images, test_labels))\n",
    "    logger.info(f\"Participating Accs: {np.mean(participating_accs)}\")\n",
    "    logger.info(\"-\"*80)\n",
    "    \n",
    "# Save model_num_training_rounds\n",
    "record[\"model_num_training_rounds\"] = model_training_rounds"
   ]
  },
  {
   "cell_type": "code",
   "execution_count": 14,
   "metadata": {},
   "outputs": [],
   "source": [
    "save_record(config, record)"
   ]
  },
  {
   "cell_type": "code",
   "execution_count": 15,
   "metadata": {},
   "outputs": [
    {
     "data": {
      "image/png": "[encoded data removed]",
      "text/plain": [
       "<Figure size 640x480 with 1 Axes>"
      ]
     },
     "metadata": {},
     "output_type": "display_data"
    }
   ],
   "source": [
    "from matplotlib import pyplot as plt\n",
    "all_accs = get_accuracies(user_ids, model_dict, test_images, test_labels)\n",
    "plt.hist(all_accs)\n",
    "plt.xlabel(\"Accuracy\")\n",
    "plt.ylabel(\"Frequency\")\n",
    "plt.title(\"Histogram of Accuracies\")\n",
    "plt.show()"
   ]
  },
  {
   "cell_type": "code",
   "execution_count": 16,
   "metadata": {},
   "outputs": [
    {
     "data": {
      "text/plain": [
       "array([0.0731    , 0.076     , 0.0696    , 0.0945    , 0.0428    ,\n",
       "       0.08679999, 0.091     , 0.0643    , 0.07229999, 0.0517    ,\n",
       "       0.0902    , 0.0722    , 0.0937    , 0.0553    , 0.0741    ,\n",
       "       0.0818    , 0.0491    , 0.0979    , 0.0865    , 0.09079999,\n",
       "       0.0797    , 0.0896    ])"
      ]
     },
     "execution_count": 16,
     "metadata": {},
     "output_type": "execute_result"
    }
   ],
   "source": [
    "all_accs = np.asarray(all_accs)\n",
    "\n",
    "accs_under_01 = all_accs[all_accs < 0.1]\n",
    "accs_under_01"
   ]
  },
  {
   "cell_type": "code",
   "execution_count": 17,
   "metadata": {},
   "outputs": [
    {
     "data": {
      "text/plain": [
       "array([  0,   1,   2,   3,   4,  22,  23,  27,  29,  30,  40,  45,  51,\n",
       "        53,  56,  59,  60,  61,  62,  70,  74,  78,  79,  80,  81,  85,\n",
       "        90,  91, 105, 108, 109, 115, 116, 118, 125, 129, 134, 138, 145,\n",
       "       153, 155, 156, 161, 163, 164, 165, 167, 173, 178, 184, 186, 194,\n",
       "       199, 207, 211, 212, 216, 221, 224, 227, 232, 238, 242, 243, 244,\n",
       "       248, 249, 255, 263, 264, 267, 269, 273, 281, 284, 286, 288, 292,\n",
       "       294, 296, 297, 298])"
      ]
     },
     "execution_count": 17,
     "metadata": {},
     "output_type": "execute_result"
    }
   ],
   "source": [
    "#np.argwhere(0.1 < all_accs).flatten()\n",
    "np.argwhere((all_accs >= 0.2) & (all_accs <= 0.65)).flatten()"
   ]
  },
  {
   "cell_type": "code",
   "execution_count": 18,
   "metadata": {},
   "outputs": [
    {
     "data": {
      "text/plain": [
       "array([  0,   1,   2,   3,   4,   7,   8,  11,  13,  22,  29,  37,  45,\n",
       "        48,  49,  51,  53,  54,  59,  61,  73,  75,  77,  79,  80,  81,\n",
       "        85,  88,  89,  90,  91,  93, 100, 103, 108, 109, 113, 117, 118,\n",
       "       120, 124, 125, 126, 127, 129, 135, 145, 155, 163, 164, 171, 172,\n",
       "       173, 184, 186, 189, 190, 194, 195, 198, 199, 201, 202, 210, 211,\n",
       "       212, 226, 227, 243, 244, 263, 264, 267, 272, 273, 274, 275, 276,\n",
       "       281, 283, 284, 285, 288, 289, 291, 292, 294, 298])"
      ]
     },
     "execution_count": 18,
     "metadata": {},
     "output_type": "execute_result"
    }
   ],
   "source": [
    "np.argwhere(np.array(model_training_rounds)==1).flatten()"
   ]
  },
  {
   "cell_type": "code",
   "execution_count": 19,
   "metadata": {},
   "outputs": [
    {
     "data": {
      "image/png": "[encoded data removed]",
      "text/plain": [
       "<Figure size 640x480 with 1 Axes>"
      ]
     },
     "metadata": {},
     "output_type": "display_data"
    }
   ],
   "source": [
    "num_times_trained = np.array(model_training_rounds)\n",
    "plt.scatter(x=num_times_trained, y=all_accs, alpha=0.4)\n",
    "plt.xlabel(\"Number of times trained\")\n",
    "plt.ylabel(\"Accuracy\")\n",
    "plt.title(\"Number of times trained vs. Accuracy\")\n",
    "plt.show()"
   ]
  },
  {
   "cell_type": "code",
   "execution_count": 20,
   "metadata": {},
   "outputs": [
    {
     "name": "stderr",
     "output_type": "stream",
     "text": [
      "Animation.save using <class 'matplotlib.animation.HTMLWriter'>\n"
     ]
    },
    {
     "data": {
      "image/png": "[encoded data removed]",
      "text/plain": [
       "<Figure size 640x480 with 1 Axes>"
      ]
     },
     "metadata": {},
     "output_type": "display_data"
    }
   ],
   "source": [
    "import matplotlib.pyplot as plt\n",
    "import matplotlib.animation as animation\n",
    "from IPython.display import HTML\n",
    "\n",
    "def plot_histogram_evolution(record):\n",
    "    fig, ax = plt.subplots()\n",
    "\n",
    "    def update_hist(num):\n",
    "        ax.clear()\n",
    "        ax.hist(record[\"model_accs_per_round\"][num])\n",
    "        ax.set_title(f'Histogram for index {num}')\n",
    "        ax.set_xlim(0, 1)\n",
    "        ax.set_ylim(0, 300)\n",
    "\n",
    "    ani = animation.FuncAnimation(fig, update_hist, frames=range(30), repeat=False)\n",
    "\n",
    "    # To display the animation in Jupyter Notebook\n",
    "    HTML(ani.to_jshtml())\n",
    "plot_histogram_evolution(record)"
   ]
  },
  {
   "cell_type": "code",
   "execution_count": null,
   "metadata": {},
   "outputs": [],
   "source": []
  }
 ],
 "metadata": {
  "kernelspec": {
   "display_name": "DiffusionEnv",
   "language": "python",
   "name": "python3"
  },
  "language_info": {
   "codemirror_mode": {
    "name": "ipython",
    "version": 3
   },
   "file_extension": ".py",
   "mimetype": "text/x-python",
   "name": "python",
   "nbconvert_exporter": "python",
   "pygments_lexer": "ipython3",
   "version": "3.12.2"
  }
 },
 "nbformat": 4,
 "nbformat_minor": 2
}
