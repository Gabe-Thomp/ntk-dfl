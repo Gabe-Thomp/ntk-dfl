{
 "cells": [
  {
   "cell_type": "code",
   "execution_count": 63,
   "metadata": {},
   "outputs": [],
   "source": [
    "import copy\n",
    "import time\n",
    "import time\n",
    "import numpy as np\n",
    "import argparse\n",
    "\n",
    "from torch.utils import data\n",
    "\n",
    "from utils.utils import *\n",
    "from utils import load_config\n",
    "from utils.validate import *\n",
    "from fedlearning.model import *\n",
    "from fedlearning.dataset import *\n",
    "from fedlearning.evolve import *\n",
    "from fedlearning.optimizer import GlobalUpdater, LocalUpdater, get_omegas"
   ]
  },
  {
   "cell_type": "code",
   "execution_count": 64,
   "metadata": {},
   "outputs": [
    {
     "name": "stderr",
     "output_type": "stream",
     "text": [
      "--------------------------------------------------------------------------------\n",
      "--------------------------------------------------------------------------------\n",
      "--------------------------------------------------------------------------------\n",
      "--------------------------------------------------------------------------------\n",
      "--------------------------------------------------------------------------------\n"
     ]
    }
   ],
   "source": [
    "config_file = \"config_fedavg_NTK.yaml\"\n",
    "config = load_config(config_file)\n",
    "\n",
    "logger = init_logger(config)\n",
    "\n",
    "model = init_model(config, logger)\n",
    "\n",
    "record = init_record(config, model)\n",
    "\n",
    "if config.device == \"cuda\":\n",
    "    torch.backends.cudnn.benchmark = True\n",
    "    # torch.backends.cudnn.deterministic = True"
   ]
  },
  {
   "cell_type": "code",
   "execution_count": 1,
   "metadata": {},
   "outputs": [
    {
     "ename": "NameError",
     "evalue": "name 'np' is not defined",
     "output_type": "error",
     "traceback": [
      "\u001b[0;31m---------------------------------------------------------------------------\u001b[0m",
      "\u001b[0;31mNameError\u001b[0m                                 Traceback (most recent call last)",
      "Cell \u001b[0;32mIn[1], line 4\u001b[0m\n\u001b[1;32m      1\u001b[0m \u001b[38;5;28;01mimport\u001b[39;00m \u001b[38;5;21;01mcopy\u001b[39;00m\n\u001b[1;32m      3\u001b[0m \u001b[38;5;66;03m# Make a deep copy of the model\u001b[39;00m\n\u001b[0;32m----> 4\u001b[0m user_ids \u001b[38;5;241m=\u001b[39m \u001b[43mnp\u001b[49m\u001b[38;5;241m.\u001b[39marange(\u001b[38;5;241m0\u001b[39m, config\u001b[38;5;241m.\u001b[39musers)\n\u001b[1;32m      6\u001b[0m \u001b[38;5;66;03m# load the dataset\u001b[39;00m\n\u001b[1;32m      7\u001b[0m \u001b[38;5;66;03m# dataset object is a dictionary with keys: train_data, test_data, user_with_data\u001b[39;00m\n\u001b[1;32m      8\u001b[0m \u001b[38;5;66;03m# user_with_data is a dictionary with keys: userID:sampleID\u001b[39;00m\n\u001b[1;32m      9\u001b[0m \u001b[38;5;66;03m# For example, in the IID setting ID's are just assigned like 0, 1, 2, 3, ...\u001b[39;00m\n\u001b[1;32m     10\u001b[0m dataset \u001b[38;5;241m=\u001b[39m assign_user_data(config, logger)\n",
      "\u001b[0;31mNameError\u001b[0m: name 'np' is not defined"
     ]
    }
   ],
   "source": [
    "import copy\n",
    "\n",
    "# Make a deep copy of the model\n",
    "user_ids = np.arange(0, config.users)\n",
    "\n",
    "# load the dataset\n",
    "# dataset object is a dictionary with keys: train_data, test_data, user_with_data\n",
    "# user_with_data is a dictionary with keys: userID:sampleID\n",
    "# For example, in the IID setting ID's are just assigned like 0, 1, 2, 3, ...\n",
    "dataset = assign_user_data(config, logger)\n",
    "test_images = torch.from_numpy(dataset[\"test_data\"][\"images\"]).to(config.device)\n",
    "test_labels = torch.from_numpy(dataset[\"test_data\"][\"labels\"]).to(config.device)\n",
    "\n",
    "# tau candidates \n",
    "taus = np.array(config.taus)\n",
    "\n",
    "# Create a dictionary of models for each user\n",
    "model_dict = {model_id: copy.deepcopy(model) for model_id in user_ids}\n"
   ]
  },
  {
   "cell_type": "markdown",
   "metadata": {},
   "source": [
    "Training a single client on their data"
   ]
  },
  {
   "cell_type": "code",
   "execution_count": 66,
   "metadata": {},
   "outputs": [],
   "source": [
    "# Select user_id model\n",
    "def train_on_user_data(user_id, model_dict):\n",
    "    model = model_dict[user_id]\n",
    "\n",
    "    validate_and_log(model_dict[user_id], dataset, config, record, logger)\n",
    "    acc = []\n",
    "    losses = []\n",
    "    params_list = []\n",
    "\n",
    "    global_kernel = None\n",
    "    global_xs = None\n",
    "    global_ys = None\n",
    "    local_packages = []\n",
    "    local_kernels = []\n",
    "\n",
    "    # Added for memory management\n",
    "    global_jac = None\n",
    "\n",
    "    user_resource = assign_user_resource(config, user_id, \n",
    "                        dataset[\"train_data\"], dataset[\"user_with_data\"])\n",
    "    local_updater = LocalUpdater(config, user_resource)\n",
    "    # Gets the local jacobians for a given client specified in local_updater\n",
    "    local_updater.local_step(model)\n",
    "    # Simulate uplink transmission\n",
    "    local_package = local_updater.uplink_transmit()\n",
    "    local_packages.append(local_package)\n",
    "    # Get local xs and ys to perform weight update\n",
    "    global_xs = local_updater.xs   \n",
    "    global_ys = local_updater.ys\n",
    "\n",
    "    global_jac = combine_local_jacobians(local_packages)\n",
    "\n",
    "    global_kernel = empirical_kernel(global_jac)\n",
    "\n",
    "    # Returns a function that, given t and f_0, solves for f_t\n",
    "    predictor = gradient_descent_ce(global_kernel.cpu(), global_ys.cpu(), config.lr)\n",
    "\n",
    "    # This is f^(0) (X)\n",
    "    with torch.no_grad():\n",
    "        fx_0 = model(global_xs)\n",
    "\n",
    "\n",
    "    # Configure maximum t as one more than the largest tau value\n",
    "    t = torch.arange(config.taus[-1]+1)\n",
    "\n",
    "    # Create f_x using the time values and the initial f_x\n",
    "    fx_train = predictor(t, fx_0.cpu())\n",
    "    # fx_train = fx_train.to(fx_0)\n",
    "\n",
    "    # Use current weights to pass to the optimizer\n",
    "    init_state_dict = copy.deepcopy(model.state_dict())\n",
    "\n",
    "    losses = np.zeros_like(taus, dtype=float)\n",
    "    acc = np.zeros_like(taus, dtype=float)\n",
    "\n",
    "    print(\"loss \\tacc\")\n",
    "\n",
    "    for i, tau in enumerate(config.taus):\n",
    "        # initialize the weight aggregator with current weights\n",
    "        weight_aggregator = WeightMod(init_state_dict)\n",
    "        global_omegas = get_omegas(t[:tau+1], config.lr, global_jac, \n",
    "                global_ys.cpu(), fx_train[:tau+1], config.loss, \n",
    "                model.state_dict())\n",
    "        # global_omegas = get_omegas(t[:tau+1], config.lr, global_jac, \n",
    "        #         global_ys, fx_train[:tau+1], config.loss, \n",
    "        #         model.state_dict())        \n",
    "        \n",
    "        # Complete the sum in 9b\n",
    "        weight_aggregator.add(global_omegas)\n",
    "        aggregated_weight = weight_aggregator.state_dict()\n",
    "        model.load_state_dict(aggregated_weight)\n",
    "\n",
    "        output = model(global_xs)\n",
    "\n",
    "        loss = loss_with_output(output, global_ys, config.loss)\n",
    "        # loss_fx = loss_with_output(fx_train[tau].to(global_ys), global_ys, config.loss)\n",
    "        losses[i] = loss\n",
    "\n",
    "        output = model(test_images)\n",
    "\n",
    "        test_acc = accuracy_with_output(output, test_labels)\n",
    "        acc[i] = test_acc\n",
    "\n",
    "        print(\"{:.3f}\\t{:.3f}\".format(loss, test_acc))\n",
    "\n",
    "        params_list.append(copy.deepcopy(aggregated_weight))\n",
    "\n",
    "    # Get index of tau with lowest loss\n",
    "    idx = np.argmin(losses)\n",
    "    # Select weight parameters with lowest loss\n",
    "    params = params_list[idx]\n",
    "\n",
    "    # Select tau with lowest loss\n",
    "    current_tau = taus[idx]\n",
    "    current_acc = acc[idx]\n",
    "    current_loss = losses[idx]\n",
    "\n",
    "    return params"
   ]
  },
  {
   "cell_type": "code",
   "execution_count": 67,
   "metadata": {},
   "outputs": [
    {
     "name": "stderr",
     "output_type": "stream",
     "text": [
      "Test accuracy 0.0478\n",
      "Test accuracy 0.0478\n",
      "Test accuracy 0.0478\n",
      "Test accuracy 0.0478\n",
      "Test accuracy 0.0478\n",
      "Train loss 3.7135\n",
      "Train loss 3.7135\n",
      "Train loss 3.7135\n",
      "Train loss 3.7135\n",
      "Train loss 3.7135\n",
      "\n",
      "\n",
      "\n",
      "\n",
      "\n"
     ]
    },
    {
     "name": "stdout",
     "output_type": "stream",
     "text": [
      "loss \tacc\n",
      "0.369\t0.363\n",
      "0.308\t0.374\n",
      "0.281\t0.374\n",
      "0.266\t0.371\n",
      "0.258\t0.371\n",
      "0.252\t0.369\n",
      "0.249\t0.369\n",
      "0.247\t0.367\n",
      "0.245\t0.366\n",
      "0.244\t0.365\n",
      "0.245\t0.362\n"
     ]
    },
    {
     "name": "stderr",
     "output_type": "stream",
     "text": [
      "Test accuracy 0.0478\n",
      "Test accuracy 0.0478\n",
      "Test accuracy 0.0478\n",
      "Test accuracy 0.0478\n",
      "Test accuracy 0.0478\n",
      "Train loss 3.7135\n",
      "Train loss 3.7135\n",
      "Train loss 3.7135\n",
      "Train loss 3.7135\n",
      "Train loss 3.7135\n",
      "\n",
      "\n",
      "\n",
      "\n",
      "\n"
     ]
    },
    {
     "name": "stdout",
     "output_type": "stream",
     "text": [
      "0.250\t0.359\n",
      "loss \tacc\n",
      "0.265\t0.379\n",
      "0.195\t0.390\n",
      "0.162\t0.398\n",
      "0.143\t0.403\n",
      "0.131\t0.406\n",
      "0.122\t0.408\n",
      "0.115\t0.410\n",
      "0.109\t0.412\n",
      "0.105\t0.414\n",
      "0.101\t0.416\n",
      "0.088\t0.420\n"
     ]
    },
    {
     "name": "stderr",
     "output_type": "stream",
     "text": [
      "Test accuracy 0.0478\n",
      "Test accuracy 0.0478\n",
      "Test accuracy 0.0478\n",
      "Test accuracy 0.0478\n",
      "Test accuracy 0.0478\n",
      "Train loss 3.7135\n",
      "Train loss 3.7135\n",
      "Train loss 3.7135\n",
      "Train loss 3.7135\n",
      "Train loss 3.7135\n",
      "\n",
      "\n",
      "\n",
      "\n",
      "\n"
     ]
    },
    {
     "name": "stdout",
     "output_type": "stream",
     "text": [
      "0.081\t0.423\n",
      "loss \tacc\n",
      "0.435\t0.357\n",
      "0.369\t0.360\n",
      "0.334\t0.362\n",
      "0.312\t0.363\n",
      "0.297\t0.364\n",
      "0.287\t0.364\n",
      "0.279\t0.364\n",
      "0.272\t0.364\n",
      "0.267\t0.365\n",
      "0.262\t0.365\n",
      "0.248\t0.366\n"
     ]
    },
    {
     "name": "stderr",
     "output_type": "stream",
     "text": [
      "Test accuracy 0.0478\n",
      "Test accuracy 0.0478\n",
      "Test accuracy 0.0478\n",
      "Test accuracy 0.0478\n",
      "Test accuracy 0.0478\n",
      "Train loss 3.7135\n",
      "Train loss 3.7135\n",
      "Train loss 3.7135\n",
      "Train loss 3.7135\n",
      "Train loss 3.7135\n",
      "\n",
      "\n",
      "\n",
      "\n",
      "\n"
     ]
    },
    {
     "name": "stdout",
     "output_type": "stream",
     "text": [
      "0.240\t0.367\n",
      "loss \tacc\n",
      "0.286\t0.261\n",
      "0.229\t0.265\n",
      "0.201\t0.267\n",
      "0.184\t0.269\n",
      "0.172\t0.269\n",
      "0.163\t0.269\n",
      "0.156\t0.270\n",
      "0.151\t0.270\n",
      "0.147\t0.270\n",
      "0.143\t0.271\n"
     ]
    },
    {
     "name": "stderr",
     "output_type": "stream",
     "text": [
      "Test accuracy 0.0478\n",
      "Test accuracy 0.0478\n",
      "Test accuracy 0.0478\n",
      "Test accuracy 0.0478\n",
      "Test accuracy 0.0478\n",
      "Train loss 3.7135\n",
      "Train loss 3.7135\n",
      "Train loss 3.7135\n",
      "Train loss 3.7135\n",
      "Train loss 3.7135\n",
      "\n",
      "\n",
      "\n",
      "\n",
      "\n"
     ]
    },
    {
     "name": "stdout",
     "output_type": "stream",
     "text": [
      "0.130\t0.272\n",
      "0.123\t0.272\n",
      "loss \tacc\n",
      "1.003\t0.147\n",
      "1.140\t0.142\n",
      "1.236\t0.140\n",
      "1.305\t0.138\n",
      "1.359\t0.136\n",
      "1.405\t0.135\n",
      "1.444\t0.134\n",
      "1.477\t0.133\n",
      "1.506\t0.133\n",
      "1.531\t0.132\n",
      "1.623\t0.131\n"
     ]
    },
    {
     "name": "stderr",
     "output_type": "stream",
     "text": [
      "Test accuracy 0.0478\n",
      "Test accuracy 0.0478\n",
      "Test accuracy 0.0478\n",
      "Test accuracy 0.0478\n",
      "Test accuracy 0.0478\n",
      "Train loss 3.7135\n",
      "Train loss 3.7135\n",
      "Train loss 3.7135\n",
      "Train loss 3.7135\n",
      "Train loss 3.7135\n",
      "\n",
      "\n",
      "\n",
      "\n",
      "\n"
     ]
    },
    {
     "name": "stdout",
     "output_type": "stream",
     "text": [
      "1.682\t0.131\n",
      "loss \tacc\n",
      "0.348\t0.259\n",
      "0.325\t0.293\n",
      "0.326\t0.303\n",
      "0.333\t0.307\n",
      "0.340\t0.309\n",
      "0.347\t0.308\n",
      "0.355\t0.309\n",
      "0.361\t0.309\n",
      "0.368\t0.308\n",
      "0.374\t0.308\n",
      "0.402\t0.304\n"
     ]
    },
    {
     "name": "stderr",
     "output_type": "stream",
     "text": [
      "Test accuracy 0.0478\n",
      "Test accuracy 0.0478\n",
      "Test accuracy 0.0478\n",
      "Test accuracy 0.0478\n",
      "Test accuracy 0.0478\n",
      "Train loss 3.7135\n",
      "Train loss 3.7135\n",
      "Train loss 3.7135\n",
      "Train loss 3.7135\n",
      "Train loss 3.7135\n",
      "\n",
      "\n",
      "\n",
      "\n",
      "\n"
     ]
    },
    {
     "name": "stdout",
     "output_type": "stream",
     "text": [
      "0.425\t0.302\n",
      "loss \tacc\n",
      "0.130\t0.220\n",
      "0.099\t0.227\n",
      "0.085\t0.230\n",
      "0.077\t0.232\n",
      "0.072\t0.233\n",
      "0.068\t0.233\n",
      "0.065\t0.233\n",
      "0.062\t0.233\n",
      "0.061\t0.233\n",
      "0.059\t0.234\n",
      "0.054\t0.234\n"
     ]
    },
    {
     "name": "stderr",
     "output_type": "stream",
     "text": [
      "Test accuracy 0.0478\n",
      "Test accuracy 0.0478\n",
      "Test accuracy 0.0478\n",
      "Test accuracy 0.0478\n",
      "Test accuracy 0.0478\n",
      "Train loss 3.7135\n",
      "Train loss 3.7135\n",
      "Train loss 3.7135\n",
      "Train loss 3.7135\n",
      "Train loss 3.7135\n",
      "\n",
      "\n",
      "\n",
      "\n",
      "\n"
     ]
    },
    {
     "name": "stdout",
     "output_type": "stream",
     "text": [
      "0.051\t0.235\n",
      "loss \tacc\n",
      "0.473\t0.184\n",
      "0.474\t0.179\n",
      "0.457\t0.179\n",
      "0.439\t0.178\n",
      "0.425\t0.179\n",
      "0.413\t0.180\n",
      "0.402\t0.180\n",
      "0.393\t0.180\n",
      "0.385\t0.180\n",
      "0.378\t0.181\n"
     ]
    },
    {
     "name": "stderr",
     "output_type": "stream",
     "text": [
      "Test accuracy 0.0478\n",
      "Test accuracy 0.0478\n",
      "Test accuracy 0.0478\n",
      "Test accuracy 0.0478\n",
      "Test accuracy 0.0478\n",
      "Train loss 3.7135\n",
      "Train loss 3.7135\n",
      "Train loss 3.7135\n",
      "Train loss 3.7135\n",
      "Train loss 3.7135\n",
      "\n",
      "\n",
      "\n",
      "\n",
      "\n"
     ]
    },
    {
     "name": "stdout",
     "output_type": "stream",
     "text": [
      "0.351\t0.182\n",
      "0.333\t0.183\n",
      "loss \tacc\n",
      "0.175\t0.221\n",
      "0.159\t0.226\n",
      "0.161\t0.226\n",
      "0.164\t0.225\n",
      "0.169\t0.226\n",
      "0.174\t0.225\n",
      "0.178\t0.225\n",
      "0.182\t0.225\n",
      "0.186\t0.224\n",
      "0.190\t0.224\n",
      "0.205\t0.222\n"
     ]
    },
    {
     "name": "stderr",
     "output_type": "stream",
     "text": [
      "Test accuracy 0.0478\n",
      "Test accuracy 0.0478\n",
      "Test accuracy 0.0478\n",
      "Test accuracy 0.0478\n",
      "Test accuracy 0.0478\n",
      "Train loss 3.7135\n",
      "Train loss 3.7135\n",
      "Train loss 3.7135\n",
      "Train loss 3.7135\n",
      "Train loss 3.7135\n",
      "\n",
      "\n",
      "\n",
      "\n",
      "\n"
     ]
    },
    {
     "name": "stdout",
     "output_type": "stream",
     "text": [
      "0.217\t0.220\n",
      "loss \tacc\n",
      "0.432\t0.215\n",
      "0.417\t0.220\n",
      "0.428\t0.222\n",
      "0.442\t0.222\n",
      "0.454\t0.223\n",
      "0.463\t0.223\n",
      "0.471\t0.223\n",
      "0.479\t0.223\n",
      "0.485\t0.223\n",
      "0.491\t0.223\n",
      "0.511\t0.224\n"
     ]
    },
    {
     "name": "stderr",
     "output_type": "stream",
     "text": [
      "Test accuracy 0.0478\n",
      "Test accuracy 0.0478\n",
      "Test accuracy 0.0478\n",
      "Test accuracy 0.0478\n",
      "Test accuracy 0.0478\n",
      "Train loss 3.7135\n",
      "Train loss 3.7135\n",
      "Train loss 3.7135\n",
      "Train loss 3.7135\n",
      "Train loss 3.7135\n",
      "\n",
      "\n",
      "\n",
      "\n",
      "\n"
     ]
    },
    {
     "name": "stdout",
     "output_type": "stream",
     "text": [
      "0.524\t0.224\n",
      "loss \tacc\n",
      "0.003\t0.100\n",
      "0.001\t0.100\n",
      "0.001\t0.100\n",
      "0.001\t0.100\n",
      "0.001\t0.100\n",
      "0.000\t0.100\n",
      "0.000\t0.100\n",
      "0.000\t0.100\n",
      "0.000\t0.100\n",
      "0.000\t0.100\n",
      "0.000\t0.100\n"
     ]
    },
    {
     "name": "stderr",
     "output_type": "stream",
     "text": [
      "Test accuracy 0.0478\n",
      "Test accuracy 0.0478\n",
      "Test accuracy 0.0478\n",
      "Test accuracy 0.0478\n",
      "Test accuracy 0.0478\n",
      "Train loss 3.7135\n",
      "Train loss 3.7135\n",
      "Train loss 3.7135\n",
      "Train loss 3.7135\n",
      "Train loss 3.7135\n",
      "\n",
      "\n",
      "\n",
      "\n",
      "\n"
     ]
    },
    {
     "name": "stdout",
     "output_type": "stream",
     "text": [
      "0.000\t0.100\n",
      "loss \tacc\n",
      "0.328\t0.354\n",
      "0.268\t0.357\n",
      "0.248\t0.357\n",
      "0.238\t0.356\n",
      "0.233\t0.356\n",
      "0.229\t0.355\n",
      "0.227\t0.355\n",
      "0.226\t0.355\n",
      "0.225\t0.355\n",
      "0.225\t0.355\n",
      "0.225\t0.354\n"
     ]
    },
    {
     "name": "stderr",
     "output_type": "stream",
     "text": [
      "Test accuracy 0.0478\n",
      "Test accuracy 0.0478\n",
      "Test accuracy 0.0478\n",
      "Test accuracy 0.0478\n",
      "Test accuracy 0.0478\n",
      "Train loss 3.7135\n",
      "Train loss 3.7135\n",
      "Train loss 3.7135\n",
      "Train loss 3.7135\n",
      "Train loss 3.7135\n",
      "\n",
      "\n",
      "\n",
      "\n",
      "\n"
     ]
    },
    {
     "name": "stdout",
     "output_type": "stream",
     "text": [
      "0.228\t0.353\n",
      "loss \tacc\n",
      "0.121\t0.141\n",
      "0.096\t0.147\n",
      "0.085\t0.150\n",
      "0.080\t0.153\n",
      "0.076\t0.155\n",
      "0.074\t0.156\n",
      "0.072\t0.157\n",
      "0.071\t0.157\n",
      "0.070\t0.158\n",
      "0.069\t0.158\n",
      "0.067\t0.160\n"
     ]
    },
    {
     "name": "stderr",
     "output_type": "stream",
     "text": [
      "Test accuracy 0.0478\n",
      "Test accuracy 0.0478\n",
      "Test accuracy 0.0478\n",
      "Test accuracy 0.0478\n",
      "Test accuracy 0.0478\n",
      "Train loss 3.7135\n",
      "Train loss 3.7135\n",
      "Train loss 3.7135\n",
      "Train loss 3.7135\n",
      "Train loss 3.7135\n",
      "\n",
      "\n",
      "\n",
      "\n",
      "\n"
     ]
    },
    {
     "name": "stdout",
     "output_type": "stream",
     "text": [
      "0.065\t0.161\n",
      "loss \tacc\n",
      "0.379\t0.259\n",
      "0.321\t0.281\n",
      "0.296\t0.287\n",
      "0.281\t0.290\n",
      "0.270\t0.292\n",
      "0.262\t0.293\n",
      "0.255\t0.294\n",
      "0.250\t0.295\n",
      "0.246\t0.296\n",
      "0.242\t0.296\n",
      "0.231\t0.299\n"
     ]
    },
    {
     "name": "stderr",
     "output_type": "stream",
     "text": [
      "Test accuracy 0.0478\n",
      "Test accuracy 0.0478\n",
      "Test accuracy 0.0478\n",
      "Test accuracy 0.0478\n",
      "Test accuracy 0.0478\n",
      "Train loss 3.7135\n",
      "Train loss 3.7135\n",
      "Train loss 3.7135\n",
      "Train loss 3.7135\n",
      "Train loss 3.7135\n",
      "\n",
      "\n",
      "\n",
      "\n",
      "\n"
     ]
    },
    {
     "name": "stdout",
     "output_type": "stream",
     "text": [
      "0.225\t0.301\n",
      "loss \tacc\n",
      "0.250\t0.272\n",
      "0.209\t0.275\n",
      "0.189\t0.276\n",
      "0.177\t0.278\n",
      "0.168\t0.278\n",
      "0.162\t0.279\n",
      "0.157\t0.279\n",
      "0.154\t0.280\n",
      "0.150\t0.280\n",
      "0.147\t0.280\n",
      "0.138\t0.281\n"
     ]
    },
    {
     "name": "stderr",
     "output_type": "stream",
     "text": [
      "Test accuracy 0.0478\n",
      "Test accuracy 0.0478\n",
      "Test accuracy 0.0478\n",
      "Test accuracy 0.0478\n",
      "Test accuracy 0.0478\n",
      "Train loss 3.7135\n",
      "Train loss 3.7135\n",
      "Train loss 3.7135\n",
      "Train loss 3.7135\n",
      "Train loss 3.7135\n",
      "\n",
      "\n",
      "\n",
      "\n",
      "\n"
     ]
    },
    {
     "name": "stdout",
     "output_type": "stream",
     "text": [
      "0.132\t0.281\n",
      "loss \tacc\n",
      "0.729\t0.188\n",
      "0.712\t0.195\n",
      "0.709\t0.198\n",
      "0.709\t0.198\n",
      "0.711\t0.199\n",
      "0.713\t0.199\n",
      "0.714\t0.199\n",
      "0.716\t0.200\n",
      "0.717\t0.200\n",
      "0.718\t0.200\n",
      "0.724\t0.201\n"
     ]
    },
    {
     "name": "stderr",
     "output_type": "stream",
     "text": [
      "Test accuracy 0.0478\n",
      "Test accuracy 0.0478\n",
      "Test accuracy 0.0478\n",
      "Test accuracy 0.0478\n",
      "Test accuracy 0.0478\n",
      "Train loss 3.7135\n",
      "Train loss 3.7135\n",
      "Train loss 3.7135\n",
      "Train loss 3.7135\n",
      "Train loss 3.7135\n",
      "\n",
      "\n",
      "\n",
      "\n",
      "\n"
     ]
    },
    {
     "name": "stdout",
     "output_type": "stream",
     "text": [
      "0.728\t0.202\n",
      "loss \tacc\n",
      "0.019\t0.160\n",
      "0.015\t0.166\n",
      "0.013\t0.168\n",
      "0.012\t0.169\n",
      "0.012\t0.170\n",
      "0.011\t0.170\n",
      "0.011\t0.171\n",
      "0.011\t0.171\n",
      "0.011\t0.171\n",
      "0.011\t0.172\n",
      "0.010\t0.173\n"
     ]
    },
    {
     "name": "stderr",
     "output_type": "stream",
     "text": [
      "Test accuracy 0.0478\n",
      "Test accuracy 0.0478\n",
      "Test accuracy 0.0478\n",
      "Test accuracy 0.0478\n",
      "Test accuracy 0.0478\n",
      "Train loss 3.7135\n",
      "Train loss 3.7135\n",
      "Train loss 3.7135\n",
      "Train loss 3.7135\n",
      "Train loss 3.7135\n",
      "\n",
      "\n",
      "\n",
      "\n",
      "\n"
     ]
    },
    {
     "name": "stdout",
     "output_type": "stream",
     "text": [
      "0.010\t0.173\n",
      "loss \tacc\n",
      "0.225\t0.308\n",
      "0.158\t0.318\n",
      "0.128\t0.321\n",
      "0.110\t0.323\n",
      "0.098\t0.324\n",
      "0.090\t0.324\n",
      "0.083\t0.325\n",
      "0.078\t0.325\n",
      "0.073\t0.325\n",
      "0.070\t0.326\n",
      "0.058\t0.327\n"
     ]
    },
    {
     "name": "stderr",
     "output_type": "stream",
     "text": [
      "Test accuracy 0.0478\n",
      "Test accuracy 0.0478\n",
      "Test accuracy 0.0478\n",
      "Test accuracy 0.0478\n",
      "Test accuracy 0.0478\n",
      "Train loss 3.7135\n",
      "Train loss 3.7135\n",
      "Train loss 3.7135\n",
      "Train loss 3.7135\n",
      "Train loss 3.7135\n",
      "\n",
      "\n",
      "\n",
      "\n",
      "\n"
     ]
    },
    {
     "name": "stdout",
     "output_type": "stream",
     "text": [
      "0.051\t0.327\n",
      "loss \tacc\n",
      "0.804\t0.219\n",
      "0.755\t0.222\n",
      "0.730\t0.227\n",
      "0.712\t0.229\n",
      "0.697\t0.231\n",
      "0.685\t0.232\n",
      "0.677\t0.234\n",
      "0.670\t0.235\n",
      "0.664\t0.236\n",
      "0.660\t0.238\n",
      "0.646\t0.241\n"
     ]
    },
    {
     "name": "stderr",
     "output_type": "stream",
     "text": [
      "Test accuracy 0.0478\n",
      "Test accuracy 0.0478\n",
      "Test accuracy 0.0478\n",
      "Test accuracy 0.0478\n",
      "Test accuracy 0.0478\n",
      "Train loss 3.7135\n",
      "Train loss 3.7135\n",
      "Train loss 3.7135\n",
      "Train loss 3.7135\n",
      "Train loss 3.7135\n",
      "\n",
      "\n",
      "\n",
      "\n",
      "\n"
     ]
    },
    {
     "name": "stdout",
     "output_type": "stream",
     "text": [
      "0.641\t0.244\n",
      "loss \tacc\n",
      "0.449\t0.290\n",
      "0.445\t0.289\n",
      "0.450\t0.289\n",
      "0.456\t0.289\n",
      "0.462\t0.290\n",
      "0.467\t0.290\n",
      "0.471\t0.290\n",
      "0.475\t0.290\n",
      "0.479\t0.289\n",
      "0.483\t0.289\n",
      "0.499\t0.289\n"
     ]
    },
    {
     "name": "stderr",
     "output_type": "stream",
     "text": [
      "Test accuracy 0.0478\n",
      "Test accuracy 0.0478\n",
      "Test accuracy 0.0478\n",
      "Test accuracy 0.0478\n",
      "Test accuracy 0.0478\n",
      "Train loss 3.7135\n",
      "Train loss 3.7135\n",
      "Train loss 3.7135\n",
      "Train loss 3.7135\n",
      "Train loss 3.7135\n",
      "\n",
      "\n",
      "\n",
      "\n",
      "\n"
     ]
    },
    {
     "name": "stdout",
     "output_type": "stream",
     "text": [
      "0.511\t0.289\n",
      "loss \tacc\n",
      "0.267\t0.272\n",
      "0.213\t0.275\n",
      "0.186\t0.275\n",
      "0.170\t0.275\n",
      "0.159\t0.275\n",
      "0.151\t0.276\n",
      "0.145\t0.276\n",
      "0.139\t0.276\n",
      "0.135\t0.276\n",
      "0.131\t0.276\n",
      "0.119\t0.277\n",
      "0.111\t0.277\n"
     ]
    }
   ],
   "source": [
    "# Stores all new weights in an array to add together\n",
    "all_updated_weights = []\n",
    "num_participators = int(config.part_rate*config.users) \n",
    "participating_users = np.random.choice(user_ids, num_participators, replace=False)\n",
    "for user_id in participating_users:\n",
    "    all_updated_weights.append(train_on_user_data(user_id, model_dict))"
   ]
  },
  {
   "cell_type": "markdown",
   "metadata": {},
   "source": [
    "Histogram of test accuracies across client models"
   ]
  },
  {
   "cell_type": "code",
   "execution_count": 106,
   "metadata": {},
   "outputs": [
    {
     "data": {
      "image/png": "[encoded data removed]",
      "text/plain": [
       "<Figure size 640x480 with 1 Axes>"
      ]
     },
     "metadata": {},
     "output_type": "display_data"
    },
    {
     "name": "stdout",
     "output_type": "stream",
     "text": [
      "Mean test acc:  0.47450000047683716\n"
     ]
    }
   ],
   "source": [
    "individual_test_accs = [accuracy_with_output(model_dict[user_id](test_images), test_labels) for user_id in participating_users]\n",
    "\n",
    "from matplotlib import pyplot as plt\n",
    "plt.hist(individual_test_accs)\n",
    "plt.show()\n",
    "print(\"Mean test acc: \", np.mean(individual_test_accs))"
   ]
  },
  {
   "cell_type": "code",
   "execution_count": 84,
   "metadata": {},
   "outputs": [],
   "source": [
    "# Grab initial weight\n",
    "# Get number of data points for user 0\n",
    "n_k = float(dataset[\"user_with_data\"][0].size)\n",
    "# get total number of data points for the round\n",
    "n = float(np.sum([dataset[\"user_with_data\"][user_id].size for user_id in participating_users]))\n",
    "# Perform first weighted sum\n",
    "weight_aggregator = WeightMod(all_updated_weights[0])\n",
    "weight_aggregator.mul(n_k)\n",
    "# Add all weights together in weighted sum\n",
    "for i in range(1, len(all_updated_weights)):\n",
    "    wi = WeightMod(all_updated_weights[i])\n",
    "    n_k = float(dataset[\"user_with_data\"][i].size)\n",
    "    # Weight the weight by # of datapoints\n",
    "    wi.mul(n_k)\n",
    "    weight_aggregator.add(wi)\n",
    "\n",
    "# Scale by number of data points\n",
    "weight_aggregator.mul(1.0/n)"
   ]
  },
  {
   "cell_type": "code",
   "execution_count": 104,
   "metadata": {},
   "outputs": [
    {
     "name": "stdout",
     "output_type": "stream",
     "text": [
      "Final acc:  0.47450000047683716\n"
     ]
    }
   ],
   "source": [
    "# Load weights into new model to test performance\n",
    "new_agg_weights = weight_aggregator.state_dict()\n",
    "model = init_model(config, logger)\n",
    "model.load_state_dict(new_agg_weights)\n",
    "output = model(test_images)\n",
    "final_acc = accuracy_with_output(output, test_labels)\n",
    "print(\"Final acc: \", final_acc)"
   ]
  },
  {
   "cell_type": "markdown",
   "metadata": {},
   "source": [
    "Now that one round is over, need to load the weights into all other models"
   ]
  },
  {
   "cell_type": "code",
   "execution_count": 105,
   "metadata": {},
   "outputs": [],
   "source": [
    "for user_id in user_ids:\n",
    "    model_dict[user_id].load_state_dict(new_agg_weights)"
   ]
  },
  {
   "cell_type": "code",
   "execution_count": null,
   "metadata": {},
   "outputs": [],
   "source": []
  }
 ],
 "metadata": {
  "kernelspec": {
   "display_name": "DiffusionEnv",
   "language": "python",
   "name": "python3"
  },
  "language_info": {
   "codemirror_mode": {
    "name": "ipython",
    "version": 3
   },
   "file_extension": ".py",
   "mimetype": "text/x-python",
   "name": "python",
   "nbconvert_exporter": "python",
   "pygments_lexer": "ipython3",
   "version": "3.12.2"
  }
 },
 "nbformat": 4,
 "nbformat_minor": 2
}
